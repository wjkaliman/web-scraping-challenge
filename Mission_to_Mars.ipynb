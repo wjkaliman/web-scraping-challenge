{
 "cells": [
  {
   "cell_type": "markdown",
   "metadata": {},
   "source": [
    "Mission to Mars "
   ]
  },
  {
   "cell_type": "code",
   "execution_count": 1,
   "metadata": {},
   "outputs": [],
   "source": [
    "# Dependencies\n",
    "from splinter import Browser\n",
    "from bs4 import BeautifulSoup as bs\n",
    "import requests\n",
    "import os\n",
    "import pandas as pd"
   ]
  },
  {
   "cell_type": "markdown",
   "metadata": {},
   "source": [
    "Mars news scraping"
   ]
  },
  {
   "cell_type": "code",
   "execution_count": 2,
   "metadata": {},
   "outputs": [],
   "source": [
    "executable_path = {'executable_path': 'chromedriver.exe'}\n",
    "browser = Browser('chrome', **executable_path, headless=False)"
   ]
  },
  {
   "cell_type": "code",
   "execution_count": 3,
   "metadata": {},
   "outputs": [],
   "source": [
    "url = 'https://mars.nasa.gov/news/?page=0&per_page=40&order=publish_date+desc%2Ccreated_at+desc&search=&category=19%2C165%2C184%2C204&blank_scope=Latest'\n",
    "browser.visit(url) "
   ]
  },
  {
   "cell_type": "markdown",
   "metadata": {},
   "source": [
    "Time to scrape"
   ]
  },
  {
   "cell_type": "code",
   "execution_count": 4,
   "metadata": {},
   "outputs": [],
   "source": [
    "html = browser.html\n",
    "soup = bs(html, 'html.parser')"
   ]
  },
  {
   "cell_type": "code",
   "execution_count": 5,
   "metadata": {},
   "outputs": [],
   "source": [
    "news_title = soup.find()\n",
    "news_p = soup.find()"
   ]
  },
  {
   "cell_type": "code",
   "execution_count": 6,
   "metadata": {},
   "outputs": [
    {
     "name": "stdout",
     "output_type": "stream",
     "text": [
      "Title: Mars Now\n",
      "Para: Ready for its launch later in the month, the Mars-bound rover will touch terra firma no more.\n"
     ]
    }
   ],
   "source": [
    "news_title = soup.find(\"div\",class_=\"content_title\").text\n",
    "news_p = soup.find(\"div\", class_=\"article_teaser_body\").text\n",
    "print(f\"Title: {news_title}\")\n",
    "print(f\"Para: {news_p}\")"
   ]
  },
  {
   "cell_type": "markdown",
   "metadata": {},
   "source": [
    " JPL image scraping"
   ]
  },
  {
   "cell_type": "code",
   "execution_count": 7,
   "metadata": {
    "scrolled": false
   },
   "outputs": [],
   "source": [
    "jpl_url_image = \"https://www.jpl.nasa.gov/spaceimages/?search=&category=Mars\"\n",
    "browser.visit(jpl_url_image)"
   ]
  },
  {
   "cell_type": "code",
   "execution_count": 8,
   "metadata": {},
   "outputs": [],
   "source": [
    "full_image = browser.find_by_id(\"full_image\")\n",
    "full_image.click()"
   ]
  },
  {
   "cell_type": "code",
   "execution_count": 10,
   "metadata": {
    "scrolled": true
   },
   "outputs": [
    {
     "name": "stderr",
     "output_type": "stream",
     "text": [
      "C:\\Users\\wjuds\\.conda\\envs\\PythonDataViz\\lib\\site-packages\\splinter\\driver\\webdriver\\__init__.py:528: FutureWarning: browser.find_link_by_partial_text is deprecated. Use browser.links.find_by_partial_text instead.\n",
      "  FutureWarning,\n"
     ]
    }
   ],
   "source": [
    "more_info = browser.find_link_by_partial_text(\"more info\")\n",
    "more_info.click()\n"
   ]
  },
  {
   "cell_type": "code",
   "execution_count": 11,
   "metadata": {},
   "outputs": [],
   "source": [
    "html = browser.html\n",
    "soup = bs(html, 'html.parser')"
   ]
  },
  {
   "cell_type": "code",
   "execution_count": null,
   "metadata": {},
   "outputs": [],
   "source": [
    "soup"
   ]
  },
  {
   "cell_type": "code",
   "execution_count": 12,
   "metadata": {},
   "outputs": [
    {
     "data": {
      "text/plain": [
       "'https://www.jpl.nasa.gov/spaceimages/images/largesize/PIA17838_hires.jpg'"
      ]
     },
     "execution_count": 12,
     "metadata": {},
     "output_type": "execute_result"
    }
   ],
   "source": [
    "#look for the tag(img), find the class. will output a list\n",
    "# and look for the source\n",
    "images = soup.find_all(\"img\", class_= \"main_image\")\n",
    "images[0][\"src\"]\n",
    "\n",
    "#images[0][\"title\"]\n",
    "\n",
    "#use base url from above and add {} with list and source\n",
    "featured_image_url = f\"https://www.jpl.nasa.gov{images[0]['src']}\"\n",
    "featured_image_url"
   ]
  },
  {
   "cell_type": "markdown",
   "metadata": {},
   "source": [
    "Mars Weather"
   ]
  },
  {
   "cell_type": "markdown",
   "metadata": {},
   "source": [
    "* Visit the Mars Weather twitter account [here](https://twitter.com/marswxreport?lang=en) and scrape the latest Mars weather tweet from the page. Save the tweet text for the weather report as a variable called `mars_weather`.\n",
    "* **Note: Be sure you are not signed in to twitter, or scraping may become more difficult.**\n",
    "* **Note: Twitter frequently changes how information is presented on their website. If you are having difficulty getting the correct html tag data, consider researching Regular Expression Patterns and how they can be used in combination with the .find() method.**"
   ]
  },
  {
   "cell_type": "code",
   "execution_count": 38,
   "metadata": {},
   "outputs": [
    {
     "data": {
      "text/plain": [
       "'<html dir=\"ltr\" lang=\"en\" style=\"font-size: 15px;\"><head><meta charset=\"utf-8\">\\n<meta name=\"viewport\" content=\"width=device-width,initial-scale=1,maximum-scale=1,user-scalable=0,viewport-fit=cover\">\\n<link rel=\"preconnect\" href=\"//abs.twimg.com\">\\n<link rel=\"preconnect\" href=\"//api.twitter.com\">\\n<link rel=\"preconnect\" href=\"//pbs.twimg.com\">\\n<link rel=\"preconnect\" href=\"//t.co\">\\n<link rel=\"preconnect\" href=\"//video.twimg.com\">\\n<link rel=\"dns-prefetch\" href=\"//abs.twimg.com\">\\n<link rel=\"dns-prefetch\" href=\"//api.twitter.com\">\\n<link rel=\"dns-prefetch\" href=\"//pbs.twimg.com\">\\n<link rel=\"dns-prefetch\" href=\"//t.co\">\\n<link rel=\"dns-prefetch\" href=\"//video.twimg.com\">\\n<link rel=\"preload\" as=\"script\" crossorigin=\"anonymous\" href=\"https://abs.twimg.com/responsive-web/web/polyfills.b98dc434.js\" nonce=\"\">\\n<link rel=\"preload\" as=\"script\" crossorigin=\"anonymous\" href=\"https://abs.twimg.com/responsive-web/web/vendors~main.d330c824.js\" nonce=\"\">\\n<link rel=\"preload\" as=\"script\" crossorigin=\"anonymous\" href=\"https://abs.twimg.com/responsive-web/web/i18n-rweb/en.d00db3a4.js\" nonce=\"\">\\n<link rel=\"preload\" as=\"script\" crossorigin=\"anonymous\" href=\"https://abs.twimg.com/responsive-web/web/i18n-horizon/en.a4662db4.js\" nonce=\"\">\\n<link rel=\"preload\" as=\"script\" crossorigin=\"anonymous\" href=\"https://abs.twimg.com/responsive-web/web/main.bb54a8f4.js\" nonce=\"\">\\n<meta property=\"fb:app_id\" content=\"2231777543\">\\n<meta property=\"og:site_name\" content=\"Twitter\">\\n<meta name=\"google-site-verification\" content=\"V0yIS0Ec_o3Ii9KThrCoMCkwTYMMJ_JYx_RSaGhFYvw\">\\n<link rel=\"manifest\" href=\"/manifest.json\" crossorigin=\"use-credentials\">\\n<link rel=\"alternate\" hreflang=\"x-default\" href=\"https://twitter.com/marswxreport?lang=en\">\\n<link rel=\"alternate\" hreflang=\"ar\" href=\"https://twitter.com/marswxreport?lang=ar\">\\n<link rel=\"alternate\" hreflang=\"bg\" href=\"https://twitter.com/marswxreport?lang=bg\">\\n<link rel=\"alternate\" hreflang=\"bn\" href=\"https://twitter.com/marswxreport?lang=bn\">\\n<link rel=\"alternate\" hreflang=\"ca\" href=\"https://twitter.com/marswxreport?lang=ca\">\\n<link rel=\"alternate\" hreflang=\"cs\" href=\"https://twitter.com/marswxreport?lang=cs\">\\n<link rel=\"alternate\" hreflang=\"da\" href=\"https://twitter.com/marswxreport?lang=da\">\\n<link rel=\"alternate\" hreflang=\"de\" href=\"https://twitter.com/marswxreport?lang=de\">\\n<link rel=\"alternate\" hreflang=\"el\" href=\"https://twitter.com/marswxreport?lang=el\">\\n<link rel=\"alternate\" hreflang=\"en\" href=\"https://twitter.com/marswxreport?lang=en\">\\n<link rel=\"alternate\" hreflang=\"en-GB\" href=\"https://twitter.com/marswxreport?lang=en-GB\">\\n<link rel=\"alternate\" hreflang=\"es\" href=\"https://twitter.com/marswxreport?lang=es\">\\n<link rel=\"alternate\" hreflang=\"eu\" href=\"https://twitter.com/marswxreport?lang=eu\">\\n<link rel=\"alternate\" hreflang=\"fa\" href=\"https://twitter.com/marswxreport?lang=fa\">\\n<link rel=\"alternate\" hreflang=\"fi\" href=\"https://twitter.com/marswxreport?lang=fi\">\\n<link rel=\"alternate\" hreflang=\"tl\" href=\"https://twitter.com/marswxreport?lang=tl\">\\n<link rel=\"alternate\" hreflang=\"fr\" href=\"https://twitter.com/marswxreport?lang=fr\">\\n<link rel=\"alternate\" hreflang=\"ga\" href=\"https://twitter.com/marswxreport?lang=ga\">\\n<link rel=\"alternate\" hreflang=\"gl\" href=\"https://twitter.com/marswxreport?lang=gl\">\\n<link rel=\"alternate\" hreflang=\"gu\" href=\"https://twitter.com/marswxreport?lang=gu\">\\n<link rel=\"alternate\" hreflang=\"he\" href=\"https://twitter.com/marswxreport?lang=he\">\\n<link rel=\"alternate\" hreflang=\"hi\" href=\"https://twitter.com/marswxreport?lang=hi\">\\n<link rel=\"alternate\" hreflang=\"hr\" href=\"https://twitter.com/marswxreport?lang=hr\">\\n<link rel=\"alternate\" hreflang=\"hu\" href=\"https://twitter.com/marswxreport?lang=hu\">\\n<link rel=\"alternate\" hreflang=\"id\" href=\"https://twitter.com/marswxreport?lang=id\">\\n<link rel=\"alternate\" hreflang=\"it\" href=\"https://twitter.com/marswxreport?lang=it\">\\n<link rel=\"alternate\" hreflang=\"ja\" href=\"https://twitter.com/marswxreport?lang=ja\">\\n<link rel=\"alternate\" hreflang=\"kn\" href=\"https://twitter.com/marswxreport?lang=kn\">\\n<link rel=\"alternate\" hreflang=\"ko\" href=\"https://twitter.com/marswxreport?lang=ko\">\\n<link rel=\"alternate\" hreflang=\"mr\" href=\"https://twitter.com/marswxreport?lang=mr\">\\n<link rel=\"alternate\" hreflang=\"ms\" href=\"https://twitter.com/marswxreport?lang=ms\">\\n<link rel=\"alternate\" hreflang=\"nb\" href=\"https://twitter.com/marswxreport?lang=nb\">\\n<link rel=\"alternate\" hreflang=\"nl\" href=\"https://twitter.com/marswxreport?lang=nl\">\\n<link rel=\"alternate\" hreflang=\"pl\" href=\"https://twitter.com/marswxreport?lang=pl\">\\n<link rel=\"alternate\" hreflang=\"pt\" href=\"https://twitter.com/marswxreport?lang=pt\">\\n<link rel=\"alternate\" hreflang=\"ro\" href=\"https://twitter.com/marswxreport?lang=ro\">\\n<link rel=\"alternate\" hreflang=\"ru\" href=\"https://twitter.com/marswxreport?lang=ru\">\\n<link rel=\"alternate\" hreflang=\"sk\" href=\"https://twitter.com/marswxreport?lang=sk\">\\n<link rel=\"alternate\" hreflang=\"sr\" href=\"https://twitter.com/marswxreport?lang=sr\">\\n<link rel=\"alternate\" hreflang=\"sv\" href=\"https://twitter.com/marswxreport?lang=sv\">\\n<link rel=\"alternate\" hreflang=\"ta\" href=\"https://twitter.com/marswxreport?lang=ta\">\\n<link rel=\"alternate\" hreflang=\"th\" href=\"https://twitter.com/marswxreport?lang=th\">\\n<link rel=\"alternate\" hreflang=\"tr\" href=\"https://twitter.com/marswxreport?lang=tr\">\\n<link rel=\"alternate\" hreflang=\"uk\" href=\"https://twitter.com/marswxreport?lang=uk\">\\n<link rel=\"alternate\" hreflang=\"ur\" href=\"https://twitter.com/marswxreport?lang=ur\">\\n<link rel=\"alternate\" hreflang=\"vi\" href=\"https://twitter.com/marswxreport?lang=vi\">\\n<link rel=\"alternate\" hreflang=\"zh\" href=\"https://twitter.com/marswxreport?lang=zh\">\\n<link rel=\"alternate\" hreflang=\"zh-Hant\" href=\"https://twitter.com/marswxreport?lang=zh-Hant\">\\n\\n<link rel=\"mask-icon\" sizes=\"any\" href=\"https://abs.twimg.com/responsive-web/web/icon-svg.9e211f64.svg\" color=\"#1da1f2\">\\n<link rel=\"shortcut icon\" href=\"//abs.twimg.com/favicons/twitter.ico\" type=\"image/x-icon\">\\n<link rel=\"apple-touch-icon\" sizes=\"192x192\" href=\"https://abs.twimg.com/responsive-web/web/icon-ios.8ea219d4.png\">\\n<meta name=\"mobile-web-app-capable\" content=\"yes\">\\n<meta name=\"apple-mobile-web-app-title\" content=\"Twitter\">\\n<meta name=\"apple-mobile-web-app-status-bar-style\" content=\"white\">\\n<meta name=\"theme-color\" content=\"#FFFFFF\">\\n<meta http-equiv=\"origin-trial\" content=\"Ap6SMBNB0lQoXpXl4I9vyTJqJ7Y0X9tPd6Q6rN697iHdubQQxBcWHy21N3N7uEz7Ba5UKMbN+eLvDczBSbi27AsAAABfeyJvcmlnaW4iOiJodHRwczovL3R3aXR0ZXIuY29tOjQ0MyIsImZlYXR1cmUiOiJCYWRnaW5nIiwiZXhwaXJ5IjoxNTY0NTgyNzY2LCJpc1N1YmRvbWFpbiI6dHJ1ZX0=\">\\n<meta http-equiv=\"origin-trial\" content=\"Apir4chqTX+4eFxKD+ErQlKRB/VtZ/dvnLfd9Y9Nenl5r1xJcf81alryTHYQiuUlz9Q49MqGXqyaiSmqWzHUqQwAAABneyJvcmlnaW4iOiJodHRwczovL3R3aXR0ZXIuY29tOjQ0MyIsImZlYXR1cmUiOiJDb250YWN0c01hbmFnZXIiLCJleHBpcnkiOjE1NzUwMzUyODMsImlzU3ViZG9tYWluIjp0cnVlfQ==\">\\n<meta http-equiv=\"origin-trial\" content=\"AleGS26SZL7UA8Fe1DbvXzoay74bPTvrfKKGimIu1RI8vA+RtXOSVlizUkz2zU/fQoFoOTgCiCciP6pM5teaeQgAAABjeyJvcmlnaW4iOiJodHRwczovL3R3aXR0ZXIuY29tOjQ0MyIsImZlYXR1cmUiOiJTbXNSZWNlaXZlciIsImV4cGlyeSI6MTU3OTAyMDkyMSwiaXNTdWJkb21haW4iOnRydWV9\">\\n\\n<style>html,body{height: 100%;}body{-ms-overflow-style:scrollbar;overflow-y:scroll;overscroll-behavior-y:none;}</style>\\n<style id=\"react-native-stylesheet\">[stylesheet-group=\"0\"]{}\\nhtml{-ms-text-size-adjust:100%;-webkit-text-size-adjust:100%;-webkit-tap-highlight-color:rgba(0,0,0,0);}\\nbody{margin:0;}\\nbutton::-moz-focus-inner,input::-moz-focus-inner{border:0;padding:0;}\\ninput::-webkit-inner-spin-button,input::-webkit-outer-spin-button,input::-webkit-search-cancel-button,input::-webkit-search-decoration,input::-webkit-search-results-button,input::-webkit-search-results-decoration{display:none;}\\n[stylesheet-group=\"0.1\"]{}\\n:focus:not([data-focusvisible-polyfill]){outline: none;}\\n[stylesheet-group=\"1\"]{}\\n.css-1dbjc4n{-ms-flex-align:stretch;-ms-flex-direction:column;-ms-flex-negative:0;-ms-flex-preferred-size:auto;-webkit-align-items:stretch;-webkit-box-align:stretch;-webkit-box-direction:normal;-webkit-box-orient:vertical;-webkit-flex-basis:auto;-webkit-flex-direction:column;-webkit-flex-shrink:0;align-items:stretch;border:0 solid black;box-sizing:border-box;display:-webkit-box;display:-moz-box;display:-ms-flexbox;display:-webkit-flex;display:flex;flex-basis:auto;flex-direction:column;flex-shrink:0;margin-bottom:0px;margin-left:0px;margin-right:0px;margin-top:0px;min-height:0px;min-width:0px;padding-bottom:0px;padding-left:0px;padding-right:0px;padding-top:0px;position:relative;z-index:0;}\\n.css-901oao{border:0 solid black;box-sizing:border-box;color:rgba(0,0,0,1.00);display:inline;font:14px system-ui,-apple-system,BlinkMacSystemFont,\"Segoe UI\",Roboto,Ubuntu,\"Helvetica Neue\",sans-serif;margin-bottom:0px;margin-left:0px;margin-right:0px;margin-top:0px;padding-bottom:0px;padding-left:0px;padding-right:0px;padding-top:0px;white-space:pre-wrap;word-wrap:break-word;}\\n.css-16my406{color:inherit;font:inherit;white-space:inherit;}\\n[stylesheet-group=\"2\"]{}\\n.r-13awgt0{-ms-flex-negative:1;-ms-flex-positive:1;-ms-flex-preferred-size:0%;-webkit-box-flex:1;-webkit-flex-basis:0%;-webkit-flex-grow:1;-webkit-flex-shrink:1;flex-basis:0%;flex-grow:1;flex-shrink:1;}\\n.r-4qtqp9{display:inline-block;}\\n.r-ywje51{margin-bottom:auto;margin-left:auto;margin-right:auto;margin-top:auto;}\\n.r-hvic4v{display:none;}\\n.r-1adg3ll{display:block;}\\n[stylesheet-group=\"2.2\"]{}\\n.r-12vffkv>*{pointer-events:auto;}\\n.r-12vffkv{pointer-events:none!important;}\\n.r-14lw9ot{background-color:rgba(255,255,255,1.00);}\\n.r-1p0dtai{bottom:0px;}\\n.r-1d2f490{left:0px;}\\n.r-1xcajam{position:fixed;}\\n.r-zchlnj{right:0px;}\\n.r-ipm5af{top:0px;}\\n.r-yyyyoo{fill:currentcolor;}\\n.r-1xvli5t{height:1.25em;}\\n.r-dnmrzs{max-width:100%;}\\n.r-bnwqim{position:relative;}\\n.r-1plcrui{vertical-align:text-bottom;}\\n.r-lrvibr{-moz-user-select:none;-ms-user-select:none;-webkit-user-select:none;user-select:none;}\\n.r-13gxpu9{color:rgba(29,161,242,1.00);}\\n.r-wy61xf{height:72px;}\\n.r-u8s1d{position:absolute;}\\n.r-1blnp2b{width:72px;}\\n.r-1ykxob0{top:60%;}\\n.r-1b2b6em{line-height:2em;}\\n.r-q4m81j{text-align:center;}</style>\\n\\n\\n<script charset=\"utf-8\" src=\"https://abs.twimg.com/responsive-web/web/sharedCore.6cbe9474.js\"></script><script charset=\"utf-8\" src=\"https://abs.twimg.com/responsive-web/web/ondemand.Dropdown.4f476594.js\"></script><title>Twitter</title><meta property=\"og:title\" content=\"Twitter\" data-rdm=\"\"><script charset=\"utf-8\" src=\"https://abs.twimg.com/responsive-web/web/loader.Typeahead.8c3e08a4.js\"></script><script charset=\"utf-8\" src=\"https://abs.twimg.com/responsive-web/web/bundle.UserProfile.cb492cf4.js\"></script><script charset=\"utf-8\" src=\"https://abs.twimg.com/responsive-web/web/loader.AppModules.e42057b4.js\"></script><script charset=\"utf-8\" src=\"https://abs.twimg.com/responsive-web/web/bundle.NetworkInstrument.0b63a7b4.js\"></script></head><body style=\"background-color: rgb(255, 255, 255);\">\\n  <noscript>\\n    <form action=\"https://mobile.twitter.com/i/nojs_router?path=%2Fmarswxreport%3Flang%3Den\" method=\"POST\" style=\"background-color: #fff; position: fixed; top: 0; left: 0; right: 0; bottom: 0; z-index: 9999;\">\\n      <div style=\"font-size: 18px; font-family: Helvetica,sans-serif; line-height: 24px; margin: 10%; width: 80%;\">\\n        <p>We\\'ve detected that JavaScript is disabled in your browser. Would you like to proceed to legacy Twitter?</p>\\n        <p style=\"margin: 20px 0;\">\\n          <button type=\"submit\" style=\"background-color: #1da1f2; border-radius: 100px; border: none; box-shadow: none; color: #fff; cursor: pointer; font-size: 14px; font-weight: bold; line-height: 20px; padding: 6px 16px;\">Yes</button>\\n        </p>\\n      </div>\\n    </form>\\n  </noscript>\\n  <div id=\"react-root\" style=\"height:100%;display:flex;\"><div class=\"css-1dbjc4n r-13awgt0 r-12vffkv\"><div class=\"css-1dbjc4n r-13awgt0 r-12vffkv\"><div class=\"css-1dbjc4n r-13qz1uu r-417010\" style=\"min-height: 925px;\"><header role=\"banner\" class=\"css-1dbjc4n r-1g40b8q\"><div class=\"css-1dbjc4n\" style=\"height: 53px;\"></div><div class=\"css-1dbjc4n r-14lw9ot r-uvzvve r-rull8r r-qklmqi r-1d2f490 r-1xcajam r-zchlnj r-ipm5af r-1siec45 r-o7ynqc r-axxi2z r-136ojw6\"><div class=\"css-1dbjc4n r-1jgb5lz r-sb58tz r-13qz1uu\"><div class=\"css-1dbjc4n r-14lw9ot r-18u37iz r-1h3ijdo r-1wtj0ep r-utggzx r-rjfia r-136ojw6\"><div class=\"css-1dbjc4n r-18u37iz r-16y2uox r-1h3ijdo r-1ye8kvj r-utggzx r-184en5c\"><div class=\"css-1dbjc4n r-1777fci r-1mf7evn\"><h1 role=\"heading\" class=\"css-4rbku5 css-1dbjc4n r-1awozwy r-1pz39u2 r-1loqt21 r-6koalj r-16y2uox r-1777fci r-18qmn74\"><a href=\"/\" aria-label=\"Twitter\" role=\"button\" data-focusable=\"true\" class=\"css-4rbku5 css-18t94o4 css-1dbjc4n r-1niwhzg r-42olwf r-sdzlij r-1phboty r-rs99b7 r-1loqt21 r-1w2pmg r-1vuscfd r-53xb7h r-1ny4l3l r-mk0yit r-o7ynqc r-6416eg r-lrvibr\" style=\"margin-left: calc(0px + (-1 * (41px - 1.75rem)) / 2);\"><div dir=\"auto\" class=\"css-901oao r-1awozwy r-13gxpu9 r-6koalj r-18u37iz r-16y2uox r-1qd0xha r-a023e6 r-vw2c0b r-1777fci r-eljoum r-dnmrzs r-bcqeeo r-q4m81j r-qvutc0\"><svg viewBox=\"0 0 24 24\" class=\"r-13gxpu9 r-4qtqp9 r-yyyyoo r-16y2uox r-1q142lx r-lwhw9o r-dnmrzs r-bnwqim r-1plcrui r-lrvibr\"><g><path d=\"M23.643 4.937c-.835.37-1.732.62-2.675.733.962-.576 1.7-1.49 2.048-2.578-.9.534-1.897.922-2.958 1.13-.85-.904-2.06-1.47-3.4-1.47-2.572 0-4.658 2.086-4.658 4.66 0 .364.042.718.12 1.06-3.873-.195-7.304-2.05-9.602-4.868-.4.69-.63 1.49-.63 2.342 0 1.616.823 3.043 2.072 3.878-.764-.025-1.482-.234-2.11-.583v.06c0 2.257 1.605 4.14 3.737 4.568-.392.106-.803.162-1.227.162-.3 0-.593-.028-.877-.082.593 1.85 2.313 3.198 4.352 3.234-1.595 1.25-3.604 1.995-5.786 1.995-.376 0-.747-.022-1.112-.065 2.062 1.323 4.51 2.093 7.14 2.093 8.57 0 13.255-7.098 13.255-13.254 0-.2-.005-.402-.014-.602.91-.658 1.7-1.477 2.323-2.41z\"></path></g></svg><span class=\"css-901oao css-16my406 css-bfa6kz r-1qd0xha r-ad9z0x r-bcqeeo r-qvutc0\"></span></div></a></h1></div><div class=\"css-1dbjc4n r-1oszu61 r-18u37iz r-16y2uox r-1wbh5a2 r-zg41ew\"><div class=\"css-1dbjc4n r-1awozwy r-16y2uox r-1pi2tsx r-1777fci r-utggzx r-tvv088\"><div aria-valuemax=\"1\" aria-valuemin=\"0\" role=\"progressbar\" class=\"css-1dbjc4n r-1awozwy r-1777fci\"><div class=\"css-1dbjc4n r-17bb2tj r-1muvv40 r-127358a r-1ldzwu0\" style=\"height: 26px; width: 26px;\"><svg height=\"100%\" viewBox=\"0 0 32 32\" width=\"100%\"><circle cx=\"16\" cy=\"16\" fill=\"none\" r=\"14\" stroke-width=\"4\" style=\"stroke: rgb(29, 161, 242); opacity: 0.2;\"></circle><circle cx=\"16\" cy=\"16\" fill=\"none\" r=\"14\" stroke-width=\"4\" style=\"stroke: rgb(29, 161, 242); stroke-dasharray: 80; stroke-dashoffset: 60;\"></circle></svg></div></div></div></div></div><div class=\"css-1dbjc4n r-18u37iz r-16y2uox r-1h3ijdo r-58zi21\"><div class=\"css-1dbjc4n r-1awozwy r-1pz39u2 r-18u37iz r-16y2uox\"><div class=\"css-1dbjc4n r-16y2uox\"><a href=\"/login\" role=\"button\" data-focusable=\"true\" class=\"css-4rbku5 css-18t94o4 css-1dbjc4n r-1niwhzg r-p1n3y5 r-sdzlij r-1phboty r-rs99b7 r-1loqt21 r-1w2pmg r-1vsu8ta r-aj3cln r-1ny4l3l r-1fneopy r-o7ynqc r-6416eg r-lrvibr\" data-testid=\"login\"><div dir=\"auto\" class=\"css-901oao r-1awozwy r-13gxpu9 r-6koalj r-18u37iz r-16y2uox r-1qd0xha r-a023e6 r-vw2c0b r-1777fci r-eljoum r-dnmrzs r-bcqeeo r-q4m81j r-qvutc0\"><span class=\"css-901oao css-16my406 css-bfa6kz r-1qd0xha r-ad9z0x r-bcqeeo r-qvutc0\"><span class=\"css-901oao css-16my406 r-1qd0xha r-ad9z0x r-bcqeeo r-qvutc0\">Log in</span></span></div></a></div><div class=\"css-1dbjc4n r-16y2uox r-1n0xq6e\"><a href=\"/i/flow/signup\" role=\"button\" data-focusable=\"true\" class=\"css-4rbku5 css-18t94o4 css-1dbjc4n r-urgr8i r-42olwf r-sdzlij r-1phboty r-rs99b7 r-1loqt21 r-1w2pmg r-1vsu8ta r-aj3cln r-1ny4l3l r-1fneopy r-o7ynqc r-6416eg r-lrvibr\" data-testid=\"signup\"><div dir=\"auto\" class=\"css-901oao r-1awozwy r-jwli3a r-6koalj r-18u37iz r-16y2uox r-1qd0xha r-a023e6 r-vw2c0b r-1777fci r-eljoum r-dnmrzs r-bcqeeo r-q4m81j r-qvutc0\"><span class=\"css-901oao css-16my406 css-bfa6kz r-1qd0xha r-ad9z0x r-bcqeeo r-qvutc0\"><span class=\"css-901oao css-16my406 r-1qd0xha r-ad9z0x r-bcqeeo r-qvutc0\">Sign up</span></span></div></a></div></div><div class=\"css-1dbjc4n r-1777fci r-1hfyk0a\"><div aria-expanded=\"false\" aria-haspopup=\"true\" role=\"button\" data-focusable=\"true\" tabindex=\"0\" class=\"css-18t94o4 css-1dbjc4n r-1niwhzg r-42olwf r-sdzlij r-1phboty r-rs99b7 r-1w2pmg r-1vuscfd r-53xb7h r-1ny4l3l r-mk0yit r-o7ynqc r-6416eg r-lrvibr\" style=\"margin-right: calc(5px + (-1 * (41px - 1.5em)) / 2);\"><div dir=\"auto\" class=\"css-901oao r-1awozwy r-13gxpu9 r-6koalj r-18u37iz r-16y2uox r-1qd0xha r-a023e6 r-vw2c0b r-1777fci r-eljoum r-dnmrzs r-bcqeeo r-q4m81j r-qvutc0\"><svg viewBox=\"0 0 24 24\" class=\"r-13gxpu9 r-4qtqp9 r-yyyyoo r-1q142lx r-50lct3 r-dnmrzs r-bnwqim r-1plcrui r-lrvibr\"><g><path d=\"M19.39 14.882c-1.58 0-2.862-1.283-2.862-2.86s1.283-2.862 2.86-2.862 2.862 1.283 2.862 2.86-1.284 2.862-2.86 2.862zm0-4.223c-.75 0-1.362.61-1.362 1.36s.61 1.36 1.36 1.36 1.362-.61 1.362-1.36-.61-1.36-1.36-1.36zM12 14.882c-1.578 0-2.86-1.283-2.86-2.86S10.42 9.158 12 9.158s2.86 1.282 2.86 2.86S13.578 14.88 12 14.88zm0-4.223c-.75 0-1.36.61-1.36 1.36s.61 1.362 1.36 1.362 1.36-.61 1.36-1.36-.61-1.363-1.36-1.363zm-7.39 4.223c-1.577 0-2.86-1.283-2.86-2.86S3.034 9.16 4.61 9.16s2.862 1.283 2.862 2.86-1.283 2.862-2.86 2.862zm0-4.223c-.75 0-1.36.61-1.36 1.36s.61 1.36 1.36 1.36 1.362-.61 1.362-1.36-.61-1.36-1.36-1.36z\"></path></g></svg><span class=\"css-901oao css-16my406 css-bfa6kz r-1qd0xha r-ad9z0x r-bcqeeo r-qvutc0\"></span></div></div></div></div></div></div></div></header><main role=\"main\" class=\"css-1dbjc4n r-16y2uox r-1wbh5a2\"><div class=\"css-1dbjc4n r-150rngu r-16y2uox r-1wbh5a2\"><div class=\"css-1dbjc4n r-16y2uox\"><div class=\"css-1dbjc4n r-1iusvr4 r-16y2uox r-1777fci\"><div aria-valuemax=\"1\" aria-valuemin=\"0\" aria-label=\"Loading\" role=\"progressbar\" class=\"css-1dbjc4n r-1awozwy r-1777fci\"><div class=\"css-1dbjc4n r-17bb2tj r-1muvv40 r-127358a r-1ldzwu0\" style=\"height: 26px; width: 26px;\"><svg height=\"100%\" viewBox=\"0 0 32 32\" width=\"100%\"><circle cx=\"16\" cy=\"16\" fill=\"none\" r=\"14\" stroke-width=\"4\" style=\"stroke: rgb(29, 161, 242); opacity: 0.2;\"></circle><circle cx=\"16\" cy=\"16\" fill=\"none\" r=\"14\" stroke-width=\"4\" style=\"stroke: rgb(29, 161, 242); stroke-dasharray: 80; stroke-dashoffset: 60;\"></circle></svg></div></div></div></div></div></main></div></div></div></div>\\n<script nonce=\"\">\\nwindow.__INITIAL_STATE__ = {\"optimist\":[],\"featureSwitch\":{\"config\":{\"account_country_setting_countries_whitelist\":{\"value\":[\"ad\",\"ae\",\"af\",\"ag\",\"ai\",\"al\",\"am\",\"ao\",\"ar\",\"as\",\"at\",\"au\",\"aw\",\"ax\",\"az\",\"ba\",\"bb\",\"bd\",\"be\",\"bf\",\"bg\",\"bh\",\"bi\",\"bj\",\"bl\",\"bm\",\"bn\",\"bo\",\"bq\",\"br\",\"bs\",\"bt\",\"bv\",\"bw\",\"by\",\"bz\",\"ca\",\"cc\",\"cd\",\"cf\",\"cg\",\"ch\",\"ci\",\"ck\",\"cl\",\"cm\",\"co\",\"cr\",\"cu\",\"cv\",\"cw\",\"cx\",\"cy\",\"cz\",\"de\",\"dj\",\"dk\",\"dm\",\"do\",\"dz\",\"ec\",\"ee\",\"eg\",\"er\",\"es\",\"et\",\"fi\",\"fj\",\"fk\",\"fm\",\"fo\",\"fr\",\"ga\",\"gb\",\"gd\",\"ge\",\"gf\",\"gg\",\"gh\",\"gi\",\"gl\",\"gm\",\"gn\",\"gp\",\"gq\",\"gr\",\"gs\",\"gt\",\"gu\",\"gw\",\"gy\",\"hk\",\"hn\",\"hr\",\"ht\",\"hu\",\"id\",\"ie\",\"il\",\"im\",\"in\",\"io\",\"iq\",\"ir\",\"is\",\"it\",\"je\",\"jm\",\"jo\",\"jp\",\"ke\",\"kg\",\"kh\",\"ki\",\"km\",\"kn\",\"kr\",\"kw\",\"ky\",\"kz\",\"la\",\"lb\",\"lc\",\"li\",\"lk\",\"lr\",\"ls\",\"lt\",\"lu\",\"lv\",\"ly\",\"ma\",\"mc\",\"md\",\"me\",\"mf\",\"mg\",\"mh\",\"mk\",\"ml\",\"mn\",\"mo\",\"mp\",\"mq\",\"mr\",\"ms\",\"mt\",\"mu\",\"mv\",\"mw\",\"mx\",\"my\",\"mz\",\"na\",\"nc\",\"ne\",\"nf\",\"ng\",\"ni\",\"nl\",\"no\",\"np\",\"nr\",\"nu\",\"nz\",\"om\",\"pa\",\"pe\",\"pf\",\"pg\",\"ph\",\"pk\",\"pl\",\"pm\",\"pn\",\"pr\",\"ps\",\"pt\",\"pw\",\"py\",\"qa\",\"re\",\"ro\",\"rs\",\"ru\",\"rw\",\"sa\",\"sb\",\"sc\",\"se\",\"sg\",\"sh\",\"si\",\"sk\",\"sl\",\"sm\",\"sn\",\"so\",\"sr\",\"st\",\"sv\",\"sx\",\"sz\",\"tc\",\"td\",\"tf\",\"tg\",\"th\",\"tj\",\"tk\",\"tl\",\"tm\",\"tn\",\"to\",\"tr\",\"tt\",\"tv\",\"tw\",\"tz\",\"ua\",\"ug\",\"us\",\"uy\",\"uz\",\"va\",\"vc\",\"ve\",\"vi\",\"vn\",\"vu\",\"wf\",\"ws\",\"xk\",\"ye\",\"yt\",\"za\",\"zm\",\"zw\"]},\"author_moderated_replies_urt_container_enabled\":{\"value\":false},\"content_language_setting_enabled\":{\"value\":true},\"conversation_controls_limited_replies_consumption_configuration\":{\"value\":\"no_reply\"},\"conversation_controls_limited_replies_creation_enabled\":{\"value\":false},\"dm_reactions_config_active_reactions\":{\"value\":[\"😂:funny\",\"😲:surprised\",\"😢:sad\",\"❤:like\",\"🔥:excited\",\"👍:agree\",\"👎:disagree\"]},\"dm_reactions_config_inactive_reactions\":{\"value\":[\"😠:angry\"]},\"guest_broadcasting_timeline_decorations_enabled\":{\"value\":true},\"home_timeline_latest_timeline_autoswitch_half_life_minutes\":{\"value\":43200},\"home_timeline_latest_timeline_autoswitch_threshold_multiplier\":{\"value\":2},\"home_timeline_latest_timeline_max_time_to_autoswitch_minutes\":{\"value\":5256000},\"home_timeline_latest_timeline_min_time_to_autoswitch_minutes\":{\"value\":5256000},\"home_timeline_latest_timeline_switch_enabled\":{\"value\":true},\"home_timeline_latest_timeline_threshold_to_increase_autoswitch_seconds\":{\"value\":60},\"home_timeline_spheres_copy_variant\":{\"value\":\"list_follow\"},\"home_timeline_spheres_custom_banner_image_reads_enabled\":{\"value\":true},\"home_timeline_spheres_detail_page_muting_enabled\":{\"value\":true},\"home_timeline_spheres_list_cell_thumbnail_enabled\":{\"value\":true},\"home_timeline_spheres_max_user_owned_or_subscribed_lists_count\":{\"value\":5},\"home_timeline_spheres_ranking_mode_control_enabled\":{\"value\":true},\"identity_verification_intake_enabled\":{\"value\":false},\"live_event_docking_enabled\":{\"value\":true},\"live_event_multi_video_auto_advance_dock_enabled\":{\"value\":true},\"live_event_multi_video_auto_advance_enabled\":{\"value\":true},\"live_event_multi_video_auto_advance_fullscreen_enabled\":{\"value\":false},\"live_event_multi_video_auto_advance_transition_duration_seconds\":{\"value\":5},\"live_event_multi_video_enabled\":{\"value\":true},\"live_event_timeline_default_refresh_rate_interval_seconds\":{\"value\":30},\"live_event_timeline_minimum_refresh_rate_interval_seconds\":{\"value\":10},\"live_event_timeline_server_controlled_refresh_rate_enabled\":{\"value\":true},\"live_event_vod_promoted_content_enabled\":{\"value\":true},\"livepipeline_client_enabled\":{\"value\":true},\"livepipeline_dm_features_enabled\":{\"value\":true},\"livepipeline_tweetengagement_enabled\":{\"value\":true},\"moment_annotations_enabled\":{\"value\":true},\"navigation_stack_referrer_param_enabled\":{\"value\":true},\"network_layer_503_backoff_mode\":{\"value\":\"host\"},\"report_flow_id_enabled\":{\"value\":true},\"responsive_web_2fa_settings_change_copy_enabled\":{\"value\":true},\"responsive_web_alt_svc\":{\"value\":false},\"responsive_web_alt_text_badge_enabled\":{\"value\":false},\"responsive_web_api_transition_enabled\":{\"value\":false},\"responsive_web_auto_logout_multiaccount_enabled\":{\"value\":true},\"responsive_web_auto_logout_restrictedauthtoken_enabled\":{\"value\":true},\"responsive_web_auto_logout_twid_enabled\":{\"value\":true},\"responsive_web_birdwatch_consumption_enabled\":{\"value\":false},\"responsive_web_birdwatch_contribution_enabled\":{\"value\":false},\"responsive_web_branch_cpid_enabled\":{\"value\":true},\"responsive_web_branch_sdk_enabled\":{\"value\":true},\"responsive_web_broadcast_page_card_enabled\":{\"value\":true},\"responsive_web_card_preload_mode\":{\"value\":\"off\"},\"responsive_web_check_browser_support_enabled\":{\"value\":true},\"responsive_web_cleanup_macaw_swift_indexed_db\":{\"value\":true},\"responsive_web_continue_as_always_enabled\":{\"value\":false},\"responsive_web_continue_as_param_enabled\":{\"value\":true},\"responsive_web_conversation_tree_enabled\":{\"value\":false},\"responsive_web_conversation_tree_toggle\":{\"value\":false},\"responsive_web_csrf_clientside_enabled\":{\"value\":true},\"responsive_web_dark_mode_scrollbars_enabled\":{\"value\":false},\"responsive_web_dcm_2_enabled\":{\"value\":true},\"responsive_web_desktop_app_reload_hard_ttl\":{\"value\":86400000},\"responsive_web_desktop_app_reload_nightly_reset_enabled\":{\"value\":false},\"responsive_web_desktop_app_reload_soft_ttl\":{\"value\":86400000},\"responsive_web_dm_composer_media_toggle_enabled\":{\"value\":false},\"responsive_web_dm_quick_access_enabled\":{\"value\":false},\"responsive_web_dm_quick_access_no_empty_drawer_enabled\":{\"value\":false},\"responsive_web_dm_quick_access_with_close_enabled\":{\"value\":false},\"responsive_web_elevated_qt_combine_retweet_and_quote_tweet_everywhere\":{\"value\":true},\"responsive_web_elevated_qt_combined_retweets_dynamic_label\":{\"value\":true},\"responsive_web_elevated_qt_ipi_tweet_pivot\":{\"value\":false},\"responsive_web_eu_countries\":{\"value\":[\"at\",\"be\",\"bg\",\"ch\",\"cy\",\"cz\",\"de\",\"dk\",\"ee\",\"es\",\"fi\",\"fr\",\"gb\",\"gr\",\"hr\",\"hu\",\"ie\",\"is\",\"it\",\"li\",\"lt\",\"lu\",\"lv\",\"mt\",\"nl\",\"no\",\"pl\",\"pt\",\"ro\",\"se\",\"si\",\"sk\"]},\"responsive_web_explore_as_lohp_enabled\":{\"value\":false},\"responsive_web_explore_tab_followup_enabled\":{\"value\":true},\"responsive_web_extension_compatibility_hide\":{\"value\":false},\"responsive_web_extension_compatibility_impression_guard\":{\"value\":true},\"responsive_web_extension_compatibility_override_param\":{\"value\":false},\"responsive_web_extension_compatibility_scribe\":{\"value\":true},\"responsive_web_extension_compatibility_size_threshold\":{\"value\":50},\"responsive_web_fake_root_twitter_domain_for_testing\":{\"value\":false},\"responsive_web_feature_switch_dash_enabled\":{\"value\":false},\"responsive_web_fetch_hashflags_on_boot\":{\"value\":true},\"responsive_web_framerate_tracking_home_enabled\":{\"value\":false},\"responsive_web_graphql_amr_timeline\":{\"value\":false},\"responsive_web_graphql_bookmarks\":{\"value\":false},\"responsive_web_graphql_dark_reads_probability\":{\"value\":0},\"responsive_web_graphql_list_crud\":{\"value\":true},\"responsive_web_graphql_list_management_timelines_enabled\":{\"value\":false},\"responsive_web_graphql_list_members_subscribers_enabled\":{\"value\":false},\"responsive_web_graphql_list_operations\":{\"value\":false},\"responsive_web_graphql_tweet_results\":{\"value\":false},\"responsive_web_graphql_user_everywhere\":{\"value\":true},\"responsive_web_graphql_user_results\":{\"value\":false},\"responsive_web_graphql_verify_credentials_enabled\":{\"value\":true},\"responsive_web_guest_token_reporting\":{\"value\":true},\"responsive_web_hide_media_previews_enabled\":{\"value\":false},\"responsive_web_history_tracker_enabled\":{\"value\":false},\"responsive_web_hoisting_anchor_invalidation_enabled\":{\"value\":false},\"responsive_web_home_wait_for_seenIds_enabled\":{\"value\":false},\"responsive_web_horizon_video_player_enabled\":{\"value\":true},\"responsive_web_hover_on_mousemove_enabled\":{\"value\":false},\"responsive_web_html_archive_renderer_enabled\":{\"value\":true},\"responsive_web_hw_cards_in_dms_enabled\":{\"value\":false},\"responsive_web_inline_reply_enabled\":{\"value\":false},\"responsive_web_inline_reply_with_fab_enabled\":{\"value\":false},\"responsive_web_instream_video_enabled\":{\"value\":true},\"responsive_web_list_hover_cards_enabled\":{\"value\":false},\"responsive_web_live_video_parity_periscope_auth_enabled\":{\"value\":false},\"responsive_web_login_input_type_email_enabled\":{\"value\":false},\"responsive_web_login_signup_sheet_app_install_cta_enabled\":{\"value\":true},\"responsive_web_media_upload_limit_2g\":{\"value\":250},\"responsive_web_media_upload_limit_3g\":{\"value\":1500},\"responsive_web_media_upload_limit_slow_2g\":{\"value\":150},\"responsive_web_media_upload_md5_hashing_enabled\":{\"value\":false},\"responsive_web_media_upload_target_jpg_pixels_per_byte\":{\"value\":1},\"responsive_web_menu_section_divider_enabled\":{\"value\":false},\"responsive_web_moment_maker_annotations_enabled\":{\"value\":false},\"responsive_web_moment_maker_enabled\":{\"value\":false},\"responsive_web_multiple_account_limit\":{\"value\":5},\"responsive_web_new_client_events_enabled\":{\"value\":false},\"responsive_web_ntab_verified_mentions_vit_internal_dogfood\":{\"value\":false},\"responsive_web_ocf_sms_autoverify_enabled\":{\"value\":false},\"responsive_web_report_page_not_found\":{\"value\":false},\"responsive_web_rich_tweet_landing_enabled\":{\"value\":true},\"responsive_web_scheduling_edit_enabled\":{\"value\":false},\"responsive_web_scheduling_enabled\":{\"value\":false},\"responsive_web_scheduling_entry_point\":{\"value\":\"overflow\"},\"responsive_web_scroller_autopoll_enabled\":{\"value\":false},\"responsive_web_scroller_v3_enabled\":{\"value\":false},\"responsive_web_search_dms_enabled\":{\"value\":true},\"responsive_web_second_degree_replies_nudge_force_enabled\":{\"value\":false},\"responsive_web_second_degree_replies_nudge_get_enabled\":{\"value\":false},\"responsive_web_second_degree_replies_nudge_show_enabled\":{\"value\":false},\"responsive_web_serviceworker_safari_disabled\":{\"value\":false},\"responsive_web_side_nav_enabled\":{\"value\":false},\"responsive_web_sports_carousel\":{\"value\":false},\"responsive_web_trends_setting_new_endpoints\":{\"value\":true},\"responsive_web_trigger_test_backoff_on_bookmark\":{\"value\":false},\"responsive_web_tweet_drafts_enabled\":{\"value\":false},\"responsive_web_tweets_pill_local_enabled\":{\"value\":true},\"responsive_web_unified_cards_live_event_enabled\":{\"value\":true},\"responsive_web_unified_cards_poll2choice_image_enabled\":{\"value\":true},\"responsive_web_unified_cards_poll2choice_video_enabled\":{\"value\":true},\"responsive_web_unified_cards_poll3choice_image_enabled\":{\"value\":true},\"responsive_web_unified_cards_poll3choice_video_enabled\":{\"value\":true},\"responsive_web_unified_cards_poll4choice_image_enabled\":{\"value\":true},\"responsive_web_unified_cards_poll4choice_video_enabled\":{\"value\":true},\"responsive_web_unsupported_entry_tombstone\":{\"value\":false},\"responsive_web_use_app_prompt_copy_variant\":{\"value\":\"\"},\"responsive_web_use_app_prompt_enabled\":{\"value\":false},\"responsive_web_verification_v2_enabled\":{\"value\":true},\"responsive_web_video_native_fullscreen_enabled\":{\"value\":true},\"responsive_web_video_promoted_logging_enabled\":{\"value\":true},\"responsive_web_vod_muted_captions_enabled\":{\"value\":true},\"responsive_web_vs_config_desktop_assumed_item_height\":{\"value\":100},\"responsive_web_vs_config_resize_observer_enabled\":{\"value\":true},\"responsive_web_zipkin_api_requests_enabled\":{\"value\":false},\"scribe_api_error_sample_size\":{\"value\":0},\"scribe_api_sample_size\":{\"value\":100},\"scribe_cdn_host_list\":{\"value\":[\"si0.twimg.com\",\"si1.twimg.com\",\"si2.twimg.com\",\"si3.twimg.com\",\"a0.twimg.com\",\"a1.twimg.com\",\"a2.twimg.com\",\"a3.twimg.com\",\"abs.twimg.com\",\"amp.twimg.com\",\"o.twimg.com\",\"pbs.twimg.com\",\"pbs-eb.twimg.com\",\"pbs-ec.twimg.com\",\"pbs-v6.twimg.com\",\"pbs-h1.twimg.com\",\"pbs-h2.twimg.com\",\"video.twimg.com\",\"platform.twitter.com\",\"cdn.api.twitter.com\",\"ton.twimg.com\",\"v.cdn.vine.co\",\"mtc.cdn.vine.co\",\"edge.vncdn.co\",\"mid.vncdn.co\"]},\"scribe_cdn_sample_size\":{\"value\":50},\"search_channels_description_enabled\":{\"value\":false},\"search_channels_discovery_page_enabled\":{\"value\":false},\"search_features_deep_link_request_params_enabled\":{\"value\":false},\"soft_interventions_forward_pivot_enabled\":{\"value\":true},\"soft_interventions_inner_qt_forward_pivot_enabled\":{\"value\":false},\"topic_landing_page_enabled\":{\"value\":true},\"topics_descriptions_enabled\":{\"value\":false},\"topics_dismiss_control_enabled\":{\"value\":true},\"topics_follow_graphql_migration_enabled\":{\"value\":false},\"topics_followed_graphql_migration_enabled\":{\"value\":false},\"topics_new_mgmt_enabled\":{\"value\":true},\"topics_new_social_context_enabled\":{\"value\":false},\"topics_new_social_context_icon_color_enabled\":{\"value\":false},\"topics_unfollow_graphql_migration_enabled\":{\"value\":false},\"traffic_rewrite_map\":{\"value\":[]},\"tweet_limited_actions_config_enabled\":{\"value\":true},\"tweet_limited_actions_config_non_compliant\":{\"value\":[\"reply\",\"retweet\",\"like\",\"send_via_dm\",\"add_to_bookmarks\",\"add_to_moment\",\"pin_to_profile\",\"view_tweet_activity\",\"share_tweet_via\"]},\"unified_cards_cta_color_blue_cta\":{\"value\":true},\"user_display_name_max_limit\":{\"value\":50},\"web_video_hls_mp4_threshold_sec\":{\"value\":0},\"web_video_hlsjs_max_buffer_length_pause\":{\"value\":3},\"web_video_hlsjs_max_buffer_length_play\":{\"value\":3},\"web_video_hlsjs_version\":{\"value\":\"\"}},\"debug\":{},\"impression_pointers\":{\"responsive_web_explore_as_lohp_enabled\":[\"responsive_web_desktop_explore_as_lohp_10262\"]},\"impressions\":{\"responsive_web_desktop_explore_as_lohp_10262\":{\"key\":\"responsive_web_desktop_explore_as_lohp_10262\",\"bucket\":\"control\",\"version\":2}},\"featureSetToken\":\"6c2b37aff63f7b8fb11d0e097a492e78db86cb93\",\"isLoaded\":true,\"isLoading\":false,\"keysRead\":{},\"settingsVersion\":\"8e8aff32ada4cf1d2ff1663fd914047f\"},\"urt\":{},\"entities\":{\"users\":{\"entities\":{},\"errors\":{},\"fetchStatus\":{}},\"tweets\":{\"entities\":{},\"errors\":{},\"fetchStatus\":{}},\"cards\":{\"entities\":{},\"errors\":{},\"fetchStatus\":{}}},\"toasts\":[],\"devices\":{\"browserPush\":{\"fetchStatus\":\"none\",\"pushNotificationsPrompt\":{\"dismissed\":false,\"fetchStatus\":\"none\"},\"subscribed\":false,\"supported\":null},\"devices\":{\"data\":{\"emails\":[],\"phone_numbers\":[]},\"fetchStatus\":\"none\"},\"notificationSettings\":{\"push_settings\":{\"error\":null,\"fetchStatus\":\"none\"},\"push_settings_template\":{\"template\":{\"settings\":[]}},\"sms_settings\":{\"error\":null,\"fetchStatus\":\"none\"},\"sms_settings_template\":{\"template\":{\"settings\":[]}},\"checkin_time\":null}},\"typeaheadUsers\":{\"fetchStatus\":\"none\",\"users\":{},\"denylist\":{},\"lastUpdated\":0,\"index\":{}},\"session\":{\"country\":\"US\",\"emailLiteLoginEligibility\":{\"fetchStatus\":\"none\"},\"guestId\":\"159440485090784993\",\"language\":\"en\",\"oneFactorLoginEligibility\":{\"fetchStatus\":\"none\"}},\"settings\":{\"local\":{\"nextPushCheckin\":0,\"shouldAutoPlayGif\":false,\"scale\":\"normal\",\"themeColor\":\"blue\",\"highContrastEnabled\":false,\"themeBackground\":\"light\",\"loginPromptLastShown\":0,\"mediaPreviewsEnabled\":true,\"reducedMotionEnabled\":false,\"conversationTreeEnabled\":false,\"showTweetMediaDetailDrawer\":true},\"remote\":{\"settings\":{\"display_sensitive_media\":false},\"fetchStatus\":\"none\"},\"dataSaver\":{\"dataSaverMode\":false},\"transient\":{\"dtabBarInfo\":{\"dtabAll\":null,\"dtabRweb\":null,\"hide\":false},\"loginPromptShown\":false,\"lastViewedDmInboxPath\":\"/messages\",\"themeFocus\":\"\"}},\"hashflags\":{\"fetchStatus\":\"none\",\"hashflags\":{}}};\\nwindow.__META_DATA__ = {\"env\":\"prod\",\"isFromDynamicRenderer\":false,\"isLoggedIn\":false,\"isRTL\":false,\"hasMultiAccountCookie\":false,\"uaParserTags\":[\"m2\",\"rweb\",\"msw\"],\"serverDate\":1594408192253,\"sha\":\"fda14a643f46b4263876bf106d00f9f22f0498cd\"};\\n</script>\\n<script type=\"text/javascript\" charset=\"utf-8\" nonce=\"\">\\n  window.__SCRIPTS_LOADED__ = {};\\n  !function(e){function n(n){for(var o,t,i=n[0],c=n[1],l=n[2],b=0,s=[];b<i.length;b++)t=i[b],Object.prototype.hasOwnProperty.call(a,t)&&a[t]&&s.push(a[t][0]),a[t]=0;for(o in c)Object.prototype.hasOwnProperty.call(c,o)&&(e[o]=c[o]);for(u&&u(n);s.length;)s.shift()();return r.push.apply(r,l||[]),d()}function d(){for(var e,n=0;n<r.length;n++){for(var d=r[n],o=!0,i=1;i<d.length;i++){var c=d[i];0!==a[c]&&(o=!1)}o&&(r.splice(n--,1),e=t(t.s=d[0]))}return e}var o={},a={0:0},r=[];function t(n){if(o[n])return o[n].exports;var d=o[n]={i:n,l:!1,exports:{}};return e[n].call(d.exports,d,d.exports,t),d.l=!0,d.exports}t.e=function(e){var n=[],d=a[e];if(0!==d)if(d)n.push(d[2]);else{var o=new Promise((function(n,o){d=a[e]=[n,o]}));n.push(d[2]=o);var r,i=document.createElement(\"script\");i.charset=\"utf-8\",i.timeout=120,t.nc&&i.setAttribute(\"nonce\",t.nc),i.src=function(e){return t.p+\"\"+({2:\"sharedCore\",3:\"shared~loader.DMDrawer~bundle.Compose~bundle.RichTextCompose~bundle.DirectMessages~bundle.DMRichTextCompose~b\",4:\"shared~bundle.Explore~bundle.GenericTimeline~bundle.LiveEvent~bundle.Place~bundle.Search~bundle.QuoteTweetAct\",5:\"shared~bundle.ComposeMedia~bundle.Display~bundle.Ocf~bundle.Settings~bundle.SettingsProfile~bundle.UserLists~\",6:\"shared~bundle.ComposeMedia~bundle.Ocf~bundle.SettingsProfile~bundle.UserLists\",7:\"shared~bundle.Compose~bundle.RichTextCompose~bundle.PlainTextCompose\",8:\"shared~bundle.RichTextCompose~bundle.DMRichTextCompose~ondemand.RichText\",9:\"shared~bundle.Settings~ondemand.SettingsInternals~bundle.SettingsTransparency\",10:\"shared~loader.DMDrawer~bundle.DirectMessages~bundle.DMRichTextCompose\",11:\"shared~bundle.Display~bundle.Settings\",12:\"shared~bundle.Explore~loader.ExploreSidebar\",13:\"shared~bundle.LiveEvent~bundle.UserMoments\",14:\"shared~loader.DMDrawer~bundle.DirectMessages\",15:\"shared~loader.DashMenu~bundle.Account\",16:\"shared~ondemand.lex~loaders.video.PlayerBase\",17:\"bundle.AboutThisAd\",18:\"bundle.Account\",19:\"bundle.AdvancedSearch\",20:\"bundle.Birdwatch\",21:\"bundle.Bookmarks\",22:\"bundle.Collection\",23:\"bundle.Compose\",24:\"bundle.ComposeMedia\",25:\"bundle.ConnectTab\",26:\"bundle.Conversation\",27:\"bundle.ConversationParticipants\",28:\"bundle.DMRichTextCompose\",29:\"bundle.DirectMessages\",30:\"bundle.Display\",31:\"bundle.Download\",32:\"bundle.Explore\",33:\"bundle.ExploreTopics\",34:\"bundle.FollowerRequests\",35:\"bundle.GenericTimeline\",36:\"bundle.GifSearch\",37:\"bundle.HomeTimeline\",38:\"bundle.KeyboardShortcuts\",39:\"bundle.LiveEvent\",40:\"bundle.LoggedOutHome\",41:\"bundle.Login\",42:\"bundle.Logout\",43:\"bundle.Moment\",44:\"bundle.MomentMaker\",45:\"bundle.MultiAccount\",46:\"bundle.NetworkInstrument\",47:\"bundle.NotificationDetail\",48:\"bundle.Notifications\",49:\"bundle.Ocf\",50:\"bundle.Place\",51:\"bundle.PlainTextCompose\",52:\"bundle.ProfileRedirect\",53:\"bundle.QuoteTweetActivity\",54:\"bundle.Report\",55:\"bundle.RichTextCompose\",56:\"bundle.Search\",57:\"bundle.Settings\",58:\"bundle.SettingsInternals\",59:\"bundle.SettingsProfile\",60:\"bundle.SettingsTransparency\",61:\"bundle.SmsLogin\",62:\"bundle.Topics\",63:\"bundle.Trends\",64:\"bundle.TweetActivity\",65:\"bundle.TweetMediaDetail\",66:\"bundle.TweetMediaTags\",67:\"bundle.Twitterversary\",68:\"bundle.UserAvatar\",69:\"bundle.UserFollowLists\",70:\"bundle.UserHeader\",71:\"bundle.UserLists\",72:\"bundle.UserMoments\",73:\"bundle.UserProfile\",74:\"bundle.UserRedirect\",173:\"loader.AbsolutePower\",174:\"loader.AppModules\",175:\"loader.DMDrawer\",176:\"loader.DashMenu\",177:\"loader.ExploreSidebar\",178:\"loader.FeedbackSheet\",179:\"loader.FeedbackTombstone\",180:\"loader.HWCard\",181:\"loader.NewTweetsPill\",182:\"loader.PeriscopeOverlay\",183:\"loader.ProfileClusterFollow\",184:\"loader.PushNotificationsPrompt\",185:\"loader.SideNav\",186:\"loader.SignupModule\",187:\"loader.TimelineGap\",188:\"loader.TimelineRenderer\",189:\"loader.TweetCurationActionMenu\",190:\"loader.TweetPhotos\",191:\"loader.Typeahead\",192:\"loader.WideLayout\",193:\"loader.directMessagesData\",194:\"loader.graphQLDarkReads\",195:\"loader.personalizationData\",196:\"loaders.video.PlayerBase\",197:\"loaders.video.PlayerHls13\",198:\"loaders.video.PlayerUi\",199:\"loaders.video.VideoPlayerDefaultUI\",201:\"ondemand.Balloons\",202:\"ondemand.BranchSdk\",203:\"ondemand.CarouselScroller\",204:\"ondemand.ComposeScheduling\",205:\"ondemand.Dropdown\",206:\"ondemand.EditBirthdate\",207:\"ondemand.EditPinned\",208:\"ondemand.EmojiPicker\",209:\"ondemand.HoverCard\",210:\"ondemand.InlinePlayer\",211:\"ondemand.IntentPrompt\",212:\"ondemand.MicrosoftInterface\",213:\"ondemand.ProfileSidebar\",214:\"ondemand.RichText\",215:\"ondemand.SettingsInternals\",216:\"ondemand.countries-ar\",217:\"ondemand.countries-bg\",218:\"ondemand.countries-bn\",219:\"ondemand.countries-ca\",220:\"ondemand.countries-cs\",221:\"ondemand.countries-da\",222:\"ondemand.countries-de\",223:\"ondemand.countries-el\",224:\"ondemand.countries-en\",225:\"ondemand.countries-en-GB\",226:\"ondemand.countries-es\",227:\"ondemand.countries-eu\",228:\"ondemand.countries-fa\",229:\"ondemand.countries-fi\",230:\"ondemand.countries-fil\",231:\"ondemand.countries-fr\",232:\"ondemand.countries-ga\",233:\"ondemand.countries-gl\",234:\"ondemand.countries-gu\",235:\"ondemand.countries-he\",236:\"ondemand.countries-hi\",237:\"ondemand.countries-hr\",238:\"ondemand.countries-hu\",239:\"ondemand.countries-id\",240:\"ondemand.countries-it\",241:\"ondemand.countries-ja\",242:\"ondemand.countries-kn\",243:\"ondemand.countries-ko\",244:\"ondemand.countries-mr\",245:\"ondemand.countries-ms\",246:\"ondemand.countries-nb\",247:\"ondemand.countries-nl\",248:\"ondemand.countries-pl\",249:\"ondemand.countries-pt\",250:\"ondemand.countries-ro\",251:\"ondemand.countries-ru\",252:\"ondemand.countries-sk\",253:\"ondemand.countries-sr\",254:\"ondemand.countries-sv\",255:\"ondemand.countries-ta\",256:\"ondemand.countries-th\",257:\"ondemand.countries-tr\",258:\"ondemand.countries-uk\",259:\"ondemand.countries-ur\",260:\"ondemand.countries-zh\",261:\"ondemand.countries-zh-Hant\",262:\"ondemand.emoji.ar\",263:\"ondemand.emoji.bg\",264:\"ondemand.emoji.bn\",265:\"ondemand.emoji.ca\",266:\"ondemand.emoji.cs\",267:\"ondemand.emoji.da\",268:\"ondemand.emoji.de\",269:\"ondemand.emoji.el\",270:\"ondemand.emoji.en\",271:\"ondemand.emoji.en-GB\",272:\"ondemand.emoji.en-ss\",273:\"ondemand.emoji.en-xx\",274:\"ondemand.emoji.es\",275:\"ondemand.emoji.eu\",276:\"ondemand.emoji.fa\",277:\"ondemand.emoji.fi\",278:\"ondemand.emoji.fil\",279:\"ondemand.emoji.fr\",280:\"ondemand.emoji.ga\",281:\"ondemand.emoji.gl\",282:\"ondemand.emoji.gu\",283:\"ondemand.emoji.he\",284:\"ondemand.emoji.hi\",285:\"ondemand.emoji.hr\",286:\"ondemand.emoji.hu\",287:\"ondemand.emoji.id\",288:\"ondemand.emoji.it\",289:\"ondemand.emoji.ja\",290:\"ondemand.emoji.kn\",291:\"ondemand.emoji.ko\",292:\"ondemand.emoji.mr\",293:\"ondemand.emoji.ms\",294:\"ondemand.emoji.nb\",295:\"ondemand.emoji.nl\",296:\"ondemand.emoji.pl\",297:\"ondemand.emoji.pt\",298:\"ondemand.emoji.ro\",299:\"ondemand.emoji.ru\",300:\"ondemand.emoji.sk\",301:\"ondemand.emoji.sr\",302:\"ondemand.emoji.sv\",303:\"ondemand.emoji.ta\",304:\"ondemand.emoji.th\",305:\"ondemand.emoji.tr\",306:\"ondemand.emoji.uk\",307:\"ondemand.emoji.ur\",308:\"ondemand.emoji.vi\",309:\"ondemand.emoji.zh\",310:\"ondemand.emoji.zh-Hant\",311:\"ondemand.framerateTracking\",312:\"ondemand.lex\",313:\"ondemand.video.PlayerHls12\"}[e]||e)+\".\"+{2:\"6cbe947\",3:\"4ce44f2\",4:\"2193b03\",5:\"c407269\",6:\"3c730dd\",7:\"7aae452\",8:\"55f4442\",9:\"e674d22\",10:\"4a6f0ec\",11:\"f4dd2e2\",12:\"1781300\",13:\"2a4dc3f\",14:\"cda3959\",15:\"dad93fe\",16:\"151b7d9\",17:\"dda3b4d\",18:\"431d43e\",19:\"d905035\",20:\"bc13ae0\",21:\"61b166b\",22:\"6cb7281\",23:\"8183bf2\",24:\"75dafa5\",25:\"8f57894\",26:\"461ef1a\",27:\"c53bf64\",28:\"5975256\",29:\"fe88e7f\",30:\"bc377ec\",31:\"6ff271f\",32:\"0ce2504\",33:\"8e17efa\",34:\"1953e54\",35:\"7e086c9\",36:\"bdcb8e9\",37:\"901f696\",38:\"1f8b7cc\",39:\"707d590\",40:\"c00e41b\",41:\"2c054c8\",42:\"d22f9f4\",43:\"22a2e31\",44:\"04d2276\",45:\"8f75b9b\",46:\"0b63a7b\",47:\"f975ea2\",48:\"6af7380\",49:\"efa5b45\",50:\"01f8428\",51:\"337f423\",52:\"a81c835\",53:\"2156dc4\",54:\"6d82915\",55:\"5dbc72b\",56:\"80b17fd\",57:\"7e696bd\",58:\"cb6b3d1\",59:\"e546771\",60:\"0c42cc5\",61:\"23a8d26\",62:\"73c161c\",63:\"4db35f0\",64:\"7fa8794\",65:\"402db39\",66:\"dc20122\",67:\"e080e37\",68:\"5db808f\",69:\"85efb96\",70:\"637a904\",71:\"cb72334\",72:\"a6340e2\",73:\"cb492cf\",74:\"c094988\",173:\"962a25c\",174:\"e42057b\",175:\"916f06b\",176:\"078a042\",177:\"b1273fa\",178:\"2e8e150\",179:\"5d4a974\",180:\"a01822b\",181:\"80ff059\",182:\"8ebe2e8\",183:\"d55fd73\",184:\"1df2025\",185:\"7ab0bcc\",186:\"578936a\",187:\"190d3f9\",188:\"f5a536e\",189:\"ea02ecd\",190:\"5160e3d\",191:\"8c3e08a\",192:\"f303966\",193:\"c478cb3\",194:\"913b305\",195:\"a0cb5c7\",196:\"1cb9c50\",197:\"971a736\",198:\"f00a453\",199:\"bd7ccbd\",201:\"566295d\",202:\"ec991ee\",203:\"d4f01a2\",204:\"b3bda84\",205:\"4f47659\",206:\"2236d2d\",207:\"942ad61\",208:\"ffae2a1\",209:\"b0a0ad5\",210:\"80fc6c5\",211:\"9dab39e\",212:\"bf10ea1\",213:\"aea666f\",214:\"90ac011\",215:\"d76d024\",216:\"75e4bd4\",217:\"799aa5b\",218:\"ecfbc58\",219:\"c5f2465\",220:\"bd3fae6\",221:\"b0c8520\",222:\"e1a8233\",223:\"8de2174\",224:\"caf0358\",225:\"a03f8fb\",226:\"3eea581\",227:\"0dcd56b\",228:\"16d8b65\",229:\"6886178\",230:\"258cbbb\",231:\"a20d09d\",232:\"97726ad\",233:\"4cef8f7\",234:\"4b5fa7f\",235:\"1a51c0b\",236:\"c914e3b\",237:\"841ac8a\",238:\"18a8ede\",239:\"24da0ec\",240:\"53d26fd\",241:\"c57226b\",242:\"17b8af9\",243:\"8d84d75\",244:\"84ba000\",245:\"0d524c4\",246:\"d1443b9\",247:\"51f8c78\",248:\"d668aa1\",249:\"e69c7d1\",250:\"6e1523f\",251:\"698887a\",252:\"14cae8b\",253:\"c19c588\",254:\"657fb2f\",255:\"0005ac8\",256:\"3d0e541\",257:\"68f18df\",258:\"6745606\",259:\"15a80dc\",260:\"1900ce7\",261:\"4de45d7\",262:\"d80e779\",263:\"cb19d43\",264:\"fc56345\",265:\"d2d29f9\",266:\"d05ba6d\",267:\"fd1c416\",268:\"50bbeb7\",269:\"9149d2a\",270:\"62a08b6\",271:\"c30abaf\",272:\"1588b7e\",273:\"948cf1d\",274:\"18c9f01\",275:\"bfa9ead\",276:\"fc92858\",277:\"518c258\",278:\"31b7ea1\",279:\"2f4bf90\",280:\"7672502\",281:\"c4af096\",282:\"2ce5f25\",283:\"f2550bf\",284:\"d36b447\",285:\"3cbd1ae\",286:\"b181e5c\",287:\"8b7e0a4\",288:\"9565b1f\",289:\"181b3f3\",290:\"4c03aef\",291:\"bcd8674\",292:\"21739f4\",293:\"c79d712\",294:\"73eab0d\",295:\"42a3a3c\",296:\"795dd49\",297:\"9ba4d09\",298:\"e5f479d\",299:\"8d181c3\",300:\"b529645\",301:\"c52502c\",302:\"b1e915d\",303:\"44411e3\",304:\"fa4d8d0\",305:\"10002c1\",306:\"688b235\",307:\"7f3fd1d\",308:\"ede8b93\",309:\"9bed1b3\",310:\"dd13389\",311:\"48369ab\",312:\"defe6fc\",313:\"09637cd\"}[e]+\"4.js\"}(e);var c=new Error;r=function(n){i.onerror=i.onload=null,clearTimeout(l);var d=a[e];if(0!==d){if(d){var o=n&&(\"load\"===n.type?\"missing\":n.type),r=n&&n.target&&n.target.src;c.message=\"Loading chunk \"+e+\" failed.\\\\n(\"+o+\": \"+r+\")\",c.name=\"ChunkLoadError\",c.type=o,c.request=r,d[1](c)}a[e]=void 0}};var l=setTimeout((function(){r({type:\"timeout\",target:i})}),12e4);i.onerror=i.onload=r,document.head.appendChild(i)}return Promise.all(n)},t.m=e,t.c=o,t.d=function(e,n,d){t.o(e,n)||Object.defineProperty(e,n,{enumerable:!0,get:d})},t.r=function(e){\"undefined\"!=typeof Symbol&&Symbol.toStringTag&&Object.defineProperty(e,Symbol.toStringTag,{value:\"Module\"}),Object.defineProperty(e,\"__esModule\",{value:!0})},t.t=function(e,n){if(1&n&&(e=t(e)),8&n)return e;if(4&n&&\"object\"==typeof e&&e&&e.__esModule)return e;var d=Object.create(null);if(t.r(d),Object.defineProperty(d,\"default\",{enumerable:!0,value:e}),2&n&&\"string\"!=typeof e)for(var o in e)t.d(d,o,function(n){return e[n]}.bind(null,o));return d},t.n=function(e){var n=e&&e.__esModule?function(){return e.default}:function(){return e};return t.d(n,\"a\",n),n},t.o=function(e,n){return Object.prototype.hasOwnProperty.call(e,n)},t.p=\"https://abs.twimg.com/responsive-web/web/\",t.oe=function(e){throw e};var i=window.webpackJsonp=window.webpackJsonp||[],c=i.push.bind(i);i.push=n,i=i.slice();for(var l=0;l<i.length;l++)n(i[l]);var u=c;d()}([]),window.__SCRIPTS_LOADED__.runtime=!0;\\n//# sourceMappingURL=runtime.a5cbb3b4.js.map\\n</script>\\n<script type=\"text/javascript\" charset=\"utf-8\" nonce=\"\" crossorigin=\"anonymous\" src=\"https://abs.twimg.com/responsive-web/web/polyfills.b98dc434.js\"></script>\\n<script type=\"text/javascript\" charset=\"utf-8\" nonce=\"\" crossorigin=\"anonymous\" src=\"https://abs.twimg.com/responsive-web/web/vendors~main.d330c824.js\"></script>\\n<script type=\"text/javascript\" charset=\"utf-8\" nonce=\"\" crossorigin=\"anonymous\" src=\"https://abs.twimg.com/responsive-web/web/i18n-rweb/en.d00db3a4.js\"></script>\\n<script type=\"text/javascript\" charset=\"utf-8\" nonce=\"\" crossorigin=\"anonymous\" src=\"https://abs.twimg.com/responsive-web/web/i18n-horizon/en.a4662db4.js\"></script>\\n<script type=\"text/javascript\" charset=\"utf-8\" nonce=\"\" crossorigin=\"anonymous\" src=\"https://abs.twimg.com/responsive-web/web/main.bb54a8f4.js\"></script>\\n<script nonce=\"\">\\n  if (!window.__SCRIPTS_LOADED__[\\'main\\']) {\\n    document.getElementById(\\'ScriptLoadFailure\\').style.display = \\'block\\';\\n  }\\n</script>\\n</body></html>'"
      ]
     },
     "execution_count": 38,
     "metadata": {},
     "output_type": "execute_result"
    }
   ],
   "source": [
    "import time\n",
    "twitter = \"https://twitter.com/marswxreport?lang=en\"\n",
    "\n",
    "browser.visit(twitter)\n",
    "twit_html = browser.html\n",
    "twit_soup = bs(html, 'html.parser')\n",
    "#twitt = twit_soup.find('div') \n",
    "\n",
    "time.sleep(2)\n",
    "#mars_weather = twit_soup.find_all(\"span\",{\"class\":[\"css-901oao\", \"css-16my406\", \"r-1qd0xha\", \"r-ad9z0x\", \"r-bcqeeo\", \"r-qvutc0\"]})\n",
    "#mars_weather = twit_soup.find_all(\"span\")\n",
    "mars_weather = soup.find_all(\"span\")\n",
    "mars_weather\n",
    "twit_html "
   ]
  },
  {
   "cell_type": "markdown",
   "metadata": {},
   "source": [
    "use Pandas to scrape the table containing facts about the planet including Diameter, Mass, etc.\n",
    "Use Pandas to convert the data to a HTML table string."
   ]
  },
  {
   "cell_type": "code",
   "execution_count": 17,
   "metadata": {},
   "outputs": [
    {
     "data": {
      "text/html": [
       "<div>\n",
       "<style scoped>\n",
       "    .dataframe tbody tr th:only-of-type {\n",
       "        vertical-align: middle;\n",
       "    }\n",
       "\n",
       "    .dataframe tbody tr th {\n",
       "        vertical-align: top;\n",
       "    }\n",
       "\n",
       "    .dataframe thead th {\n",
       "        text-align: right;\n",
       "    }\n",
       "</style>\n",
       "<table border=\"1\" class=\"dataframe\">\n",
       "  <thead>\n",
       "    <tr style=\"text-align: right;\">\n",
       "      <th></th>\n",
       "      <th></th>\n",
       "    </tr>\n",
       "    <tr>\n",
       "      <th>Mars Planet Profile</th>\n",
       "      <th></th>\n",
       "    </tr>\n",
       "  </thead>\n",
       "  <tbody>\n",
       "    <tr>\n",
       "      <th>Equatorial Diameter:</th>\n",
       "      <td>6,792 km</td>\n",
       "    </tr>\n",
       "    <tr>\n",
       "      <th>Polar Diameter:</th>\n",
       "      <td>6,752 km</td>\n",
       "    </tr>\n",
       "    <tr>\n",
       "      <th>Mass:</th>\n",
       "      <td>6.39 × 10^23 kg (0.11 Earths)</td>\n",
       "    </tr>\n",
       "    <tr>\n",
       "      <th>Moons:</th>\n",
       "      <td>2 (Phobos &amp; Deimos)</td>\n",
       "    </tr>\n",
       "    <tr>\n",
       "      <th>Orbit Distance:</th>\n",
       "      <td>227,943,824 km (1.38 AU)</td>\n",
       "    </tr>\n",
       "    <tr>\n",
       "      <th>Orbit Period:</th>\n",
       "      <td>687 days (1.9 years)</td>\n",
       "    </tr>\n",
       "    <tr>\n",
       "      <th>Surface Temperature:</th>\n",
       "      <td>-87 to -5 °C</td>\n",
       "    </tr>\n",
       "    <tr>\n",
       "      <th>First Record:</th>\n",
       "      <td>2nd millennium BC</td>\n",
       "    </tr>\n",
       "    <tr>\n",
       "      <th>Recorded By:</th>\n",
       "      <td>Egyptian astronomers</td>\n",
       "    </tr>\n",
       "  </tbody>\n",
       "</table>\n",
       "</div>"
      ],
      "text/plain": [
       "                                                   \n",
       "Mars Planet Profile                                \n",
       "Equatorial Diameter:                       6,792 km\n",
       "Polar Diameter:                            6,752 km\n",
       "Mass:                 6.39 × 10^23 kg (0.11 Earths)\n",
       "Moons:                          2 (Phobos & Deimos)\n",
       "Orbit Distance:            227,943,824 km (1.38 AU)\n",
       "Orbit Period:                  687 days (1.9 years)\n",
       "Surface Temperature:                   -87 to -5 °C\n",
       "First Record:                     2nd millennium BC\n",
       "Recorded By:                   Egyptian astronomers"
      ]
     },
     "execution_count": 17,
     "metadata": {},
     "output_type": "execute_result"
    }
   ],
   "source": [
    "facts_url = 'https://space-facts.com/mars'\n",
    "t_df = pd.read_html(facts_url)[0]\n",
    "t_df = t_df.rename(columns={0:'Mars Planet Profile',1:''})\n",
    "t_df = t_df.set_index('Mars Planet Profile')\n",
    "t_df"
   ]
  },
  {
   "cell_type": "markdown",
   "metadata": {},
   "source": [
    "Use Pandas to convert the data to a HTML table string."
   ]
  },
  {
   "cell_type": "code",
   "execution_count": 18,
   "metadata": {},
   "outputs": [
    {
     "data": {
      "text/plain": [
       "<bound method DataFrame.to_html of                                                    \n",
       "Mars Planet Profile                                \n",
       "Equatorial Diameter:                       6,792 km\n",
       "Polar Diameter:                            6,752 km\n",
       "Mass:                 6.39 × 10^23 kg (0.11 Earths)\n",
       "Moons:                          2 (Phobos & Deimos)\n",
       "Orbit Distance:            227,943,824 km (1.38 AU)\n",
       "Orbit Period:                  687 days (1.9 years)\n",
       "Surface Temperature:                   -87 to -5 °C\n",
       "First Record:                     2nd millennium BC\n",
       "Recorded By:                   Egyptian astronomers>"
      ]
     },
     "execution_count": 18,
     "metadata": {},
     "output_type": "execute_result"
    }
   ],
   "source": [
    "html_table = t_df.to_html\n",
    "html_table"
   ]
  },
  {
   "cell_type": "code",
   "execution_count": 19,
   "metadata": {
    "scrolled": true
   },
   "outputs": [
    {
     "data": {
      "text/plain": [
       "'<table border=\"1\" class=\"dataframe\">\\n  <thead>\\n    <tr style=\"text-align: right;\">\\n      <th></th>\\n      <th></th>\\n    </tr>\\n    <tr>\\n      <th>Mars Planet Profile</th>\\n      <th></th>\\n    </tr>\\n  </thead>\\n  <tbody>\\n    <tr>\\n      <th>Equatorial Diameter:</th>\\n      <td>6,792 km</td>\\n    </tr>\\n    <tr>\\n      <th>Polar Diameter:</th>\\n      <td>6,752 km</td>\\n    </tr>\\n    <tr>\\n      <th>Mass:</th>\\n      <td>6.39 × 10^23 kg (0.11 Earths)</td>\\n    </tr>\\n    <tr>\\n      <th>Moons:</th>\\n      <td>2 (Phobos &amp; Deimos)</td>\\n    </tr>\\n    <tr>\\n      <th>Orbit Distance:</th>\\n      <td>227,943,824 km (1.38 AU)</td>\\n    </tr>\\n    <tr>\\n      <th>Orbit Period:</th>\\n      <td>687 days (1.9 years)</td>\\n    </tr>\\n    <tr>\\n      <th>Surface Temperature:</th>\\n      <td>-87 to -5 °C</td>\\n    </tr>\\n    <tr>\\n      <th>First Record:</th>\\n      <td>2nd millennium BC</td>\\n    </tr>\\n    <tr>\\n      <th>Recorded By:</th>\\n      <td>Egyptian astronomers</td>\\n    </tr>\\n  </tbody>\\n</table>'"
      ]
     },
     "execution_count": 19,
     "metadata": {},
     "output_type": "execute_result"
    }
   ],
   "source": [
    "html_table = t_df.to_html()\n",
    "html_table"
   ]
  },
  {
   "cell_type": "markdown",
   "metadata": {},
   "source": [
    "Mars Hemispheres"
   ]
  },
  {
   "cell_type": "markdown",
   "metadata": {},
   "source": [
    " Visit the USGS Astrogeology site [here](https://astrogeology.usgs.gov/search/results?q=hemisphere+enhanced&k1=target&v1=Mars) to obtain high resolution images for each of Mar's hemispheres.\n",
    "    * You will need to click each of the links to the hemispheres in order to find the image url to the full resolution image.\n",
    "    * Save both the image url string for the full resolution hemisphere image, and the Hemisphere title containing the hemisphere name. Use a Python dictionary to store the data using the keys `img_url` and `title`.\n",
    "    * Append the dictionary with the image url string and the hemisphere title to a list. This list will contain one dictionary for each hemisphere."
   ]
  },
  {
   "cell_type": "code",
   "execution_count": 36,
   "metadata": {},
   "outputs": [
    {
     "name": "stdout",
     "output_type": "stream",
     "text": [
      "https://astropedia.astrogeology.usgs.gov/download/Mars/Viking/cerberus_enhanced.tif/full.jpg\n",
      "Cerberus Hemisphere Enhanced\n",
      "https://astropedia.astrogeology.usgs.gov/download/Mars/Viking/schiaparelli_enhanced.tif/full.jpg\n",
      "Schiaparelli Hemisphere Enhanced\n",
      "https://astropedia.astrogeology.usgs.gov/download/Mars/Viking/syrtis_major_enhanced.tif/full.jpg\n",
      "Syrtis Major Hemisphere Enhanced\n",
      "https://astropedia.astrogeology.usgs.gov/download/Mars/Viking/valles_marineris_enhanced.tif/full.jpg\n",
      "Valles Marineris Hemisphere Enhanced\n"
     ]
    },
    {
     "data": {
      "text/plain": [
       "[{'title': 'Cerberus Hemisphere Enhanced',\n",
       "  'img_url': 'https://astropedia.astrogeology.usgs.gov/download/Mars/Viking/cerberus_enhanced.tif/full.jpg'},\n",
       " {'title': 'Schiaparelli Hemisphere Enhanced',\n",
       "  'img_url': 'https://astropedia.astrogeology.usgs.gov/download/Mars/Viking/schiaparelli_enhanced.tif/full.jpg'},\n",
       " {'title': 'Syrtis Major Hemisphere Enhanced',\n",
       "  'img_url': 'https://astropedia.astrogeology.usgs.gov/download/Mars/Viking/syrtis_major_enhanced.tif/full.jpg'},\n",
       " {'title': 'Valles Marineris Hemisphere Enhanced',\n",
       "  'img_url': 'https://astropedia.astrogeology.usgs.gov/download/Mars/Viking/valles_marineris_enhanced.tif/full.jpg'}]"
      ]
     },
     "execution_count": 36,
     "metadata": {},
     "output_type": "execute_result"
    }
   ],
   "source": [
    "USGS_url = 'https://astrogeology.usgs.gov/search/results?q=hemisphere+enhanced&k1=target&v1=Mars'\n",
    "browser.visit(USGS_url)\n",
    "html = browser.html\n",
    "soup = bs(html, 'html.parser')\n",
    "#storing data??\n",
    "mars_hemi = []\n",
    "\n",
    "photo = browser.find_by_css('a.product-item h3')\n",
    "for i in range(len(photo)):      \n",
    "    browser.find_by_css('a.product-item h3')[i].click()\n",
    "    Mars_dict = {}\n",
    "    sample = browser.find_link_by_text(\"Sample\").first\n",
    "    print(sample[\"href\"])\n",
    "    link = sample[\"href\"]\n",
    "    title = browser.find_by_css(\"h2.title\").text\n",
    "    print(title)\n",
    "    Mars_dict[\"title\"]=title\n",
    "    Mars_dict[\"img_url\"]=link\n",
    "    mars_hemi.append(Mars_dict)\n",
    "    browser.back()\n",
    "mars_hemi\n",
    "\n",
    "\n",
    "\n"
   ]
  },
  {
   "cell_type": "markdown",
   "metadata": {},
   "source": [
    " This is what its supposed to look like\n",
    " \n",
    " {\"title\": \"Valles Marineris Hemisphere\", \"img_url\": \"...\"},\n",
    "    {\"title\": \"Cerberus Hemisphere\", \"img_url\": \"...\"},\n",
    "    {\"title\": \"Schiaparelli Hemisphere\", \"img_url\": \"...\"},\n",
    "    {\"title\": \"Syrtis Major Hemisphere\", \"img_url\": \"...\"},"
   ]
  }
 ],
 "metadata": {
  "kernelspec": {
   "display_name": "Python 3",
   "language": "python",
   "name": "python3"
  },
  "language_info": {
   "codemirror_mode": {
    "name": "ipython",
    "version": 3
   },
   "file_extension": ".py",
   "mimetype": "text/x-python",
   "name": "python",
   "nbconvert_exporter": "python",
   "pygments_lexer": "ipython3",
   "version": "3.6.10"
  }
 },
 "nbformat": 4,
 "nbformat_minor": 4
}
